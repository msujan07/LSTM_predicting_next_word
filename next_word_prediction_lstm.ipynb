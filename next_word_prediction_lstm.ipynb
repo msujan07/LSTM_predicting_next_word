{
  "nbformat": 4,
  "nbformat_minor": 0,
  "metadata": {
    "colab": {
      "provenance": [],
      "authorship_tag": "ABX9TyMFKakSMsJVZOhkyIKfXRPr",
      "include_colab_link": true
    },
    "kernelspec": {
      "name": "python3",
      "display_name": "Python 3"
    },
    "language_info": {
      "name": "python"
    },
    "accelerator": "GPU",
    "gpuClass": "standard"
  },
  "cells": [
    {
      "cell_type": "markdown",
      "metadata": {
        "id": "view-in-github",
        "colab_type": "text"
      },
      "source": [
        "<a href=\"https://colab.research.google.com/github/msujan07/LSTM_predicting_next_word/blob/main/next_word_prediction_lstm.ipynb\" target=\"_parent\"><img src=\"https://colab.research.google.com/assets/colab-badge.svg\" alt=\"Open In Colab\"/></a>"
      ]
    },
    {
      "cell_type": "code",
      "execution_count": 2,
      "metadata": {
        "id": "OGbr1iiCWFCz"
      },
      "outputs": [],
      "source": [
        "import numpy as np\n",
        "import pickle\n",
        "import os \n",
        "import tensorflow as tf\n",
        "from tensorflow.keras.preprocessing.text import Tokenizer\n",
        "from tensorflow.keras.layers import Embedding, LSTM, Dense\n",
        "from tensorflow.keras.models import Sequential\n",
        "from tensorflow.keras.utils import to_categorical\n",
        "from tensorflow.keras.optimizers import Adam"
      ]
    },
    {
      "cell_type": "code",
      "source": [
        "from google.colab import files\n",
        "uploaded = files.upload()\n"
      ],
      "metadata": {
        "colab": {
          "base_uri": "https://localhost:8080/",
          "height": 73
        },
        "id": "hGxIlcaeWTjS",
        "outputId": "46f93c14-6df3-4de4-c11d-a543f120b422"
      },
      "execution_count": 3,
      "outputs": [
        {
          "output_type": "display_data",
          "data": {
            "text/plain": [
              "<IPython.core.display.HTML object>"
            ],
            "text/html": [
              "\n",
              "     <input type=\"file\" id=\"files-14549653-2d1e-433c-8ff4-ca7cd710c16d\" name=\"files[]\" multiple disabled\n",
              "        style=\"border:none\" />\n",
              "     <output id=\"result-14549653-2d1e-433c-8ff4-ca7cd710c16d\">\n",
              "      Upload widget is only available when the cell has been executed in the\n",
              "      current browser session. Please rerun this cell to enable.\n",
              "      </output>\n",
              "      <script>// Copyright 2017 Google LLC\n",
              "//\n",
              "// Licensed under the Apache License, Version 2.0 (the \"License\");\n",
              "// you may not use this file except in compliance with the License.\n",
              "// You may obtain a copy of the License at\n",
              "//\n",
              "//      http://www.apache.org/licenses/LICENSE-2.0\n",
              "//\n",
              "// Unless required by applicable law or agreed to in writing, software\n",
              "// distributed under the License is distributed on an \"AS IS\" BASIS,\n",
              "// WITHOUT WARRANTIES OR CONDITIONS OF ANY KIND, either express or implied.\n",
              "// See the License for the specific language governing permissions and\n",
              "// limitations under the License.\n",
              "\n",
              "/**\n",
              " * @fileoverview Helpers for google.colab Python module.\n",
              " */\n",
              "(function(scope) {\n",
              "function span(text, styleAttributes = {}) {\n",
              "  const element = document.createElement('span');\n",
              "  element.textContent = text;\n",
              "  for (const key of Object.keys(styleAttributes)) {\n",
              "    element.style[key] = styleAttributes[key];\n",
              "  }\n",
              "  return element;\n",
              "}\n",
              "\n",
              "// Max number of bytes which will be uploaded at a time.\n",
              "const MAX_PAYLOAD_SIZE = 100 * 1024;\n",
              "\n",
              "function _uploadFiles(inputId, outputId) {\n",
              "  const steps = uploadFilesStep(inputId, outputId);\n",
              "  const outputElement = document.getElementById(outputId);\n",
              "  // Cache steps on the outputElement to make it available for the next call\n",
              "  // to uploadFilesContinue from Python.\n",
              "  outputElement.steps = steps;\n",
              "\n",
              "  return _uploadFilesContinue(outputId);\n",
              "}\n",
              "\n",
              "// This is roughly an async generator (not supported in the browser yet),\n",
              "// where there are multiple asynchronous steps and the Python side is going\n",
              "// to poll for completion of each step.\n",
              "// This uses a Promise to block the python side on completion of each step,\n",
              "// then passes the result of the previous step as the input to the next step.\n",
              "function _uploadFilesContinue(outputId) {\n",
              "  const outputElement = document.getElementById(outputId);\n",
              "  const steps = outputElement.steps;\n",
              "\n",
              "  const next = steps.next(outputElement.lastPromiseValue);\n",
              "  return Promise.resolve(next.value.promise).then((value) => {\n",
              "    // Cache the last promise value to make it available to the next\n",
              "    // step of the generator.\n",
              "    outputElement.lastPromiseValue = value;\n",
              "    return next.value.response;\n",
              "  });\n",
              "}\n",
              "\n",
              "/**\n",
              " * Generator function which is called between each async step of the upload\n",
              " * process.\n",
              " * @param {string} inputId Element ID of the input file picker element.\n",
              " * @param {string} outputId Element ID of the output display.\n",
              " * @return {!Iterable<!Object>} Iterable of next steps.\n",
              " */\n",
              "function* uploadFilesStep(inputId, outputId) {\n",
              "  const inputElement = document.getElementById(inputId);\n",
              "  inputElement.disabled = false;\n",
              "\n",
              "  const outputElement = document.getElementById(outputId);\n",
              "  outputElement.innerHTML = '';\n",
              "\n",
              "  const pickedPromise = new Promise((resolve) => {\n",
              "    inputElement.addEventListener('change', (e) => {\n",
              "      resolve(e.target.files);\n",
              "    });\n",
              "  });\n",
              "\n",
              "  const cancel = document.createElement('button');\n",
              "  inputElement.parentElement.appendChild(cancel);\n",
              "  cancel.textContent = 'Cancel upload';\n",
              "  const cancelPromise = new Promise((resolve) => {\n",
              "    cancel.onclick = () => {\n",
              "      resolve(null);\n",
              "    };\n",
              "  });\n",
              "\n",
              "  // Wait for the user to pick the files.\n",
              "  const files = yield {\n",
              "    promise: Promise.race([pickedPromise, cancelPromise]),\n",
              "    response: {\n",
              "      action: 'starting',\n",
              "    }\n",
              "  };\n",
              "\n",
              "  cancel.remove();\n",
              "\n",
              "  // Disable the input element since further picks are not allowed.\n",
              "  inputElement.disabled = true;\n",
              "\n",
              "  if (!files) {\n",
              "    return {\n",
              "      response: {\n",
              "        action: 'complete',\n",
              "      }\n",
              "    };\n",
              "  }\n",
              "\n",
              "  for (const file of files) {\n",
              "    const li = document.createElement('li');\n",
              "    li.append(span(file.name, {fontWeight: 'bold'}));\n",
              "    li.append(span(\n",
              "        `(${file.type || 'n/a'}) - ${file.size} bytes, ` +\n",
              "        `last modified: ${\n",
              "            file.lastModifiedDate ? file.lastModifiedDate.toLocaleDateString() :\n",
              "                                    'n/a'} - `));\n",
              "    const percent = span('0% done');\n",
              "    li.appendChild(percent);\n",
              "\n",
              "    outputElement.appendChild(li);\n",
              "\n",
              "    const fileDataPromise = new Promise((resolve) => {\n",
              "      const reader = new FileReader();\n",
              "      reader.onload = (e) => {\n",
              "        resolve(e.target.result);\n",
              "      };\n",
              "      reader.readAsArrayBuffer(file);\n",
              "    });\n",
              "    // Wait for the data to be ready.\n",
              "    let fileData = yield {\n",
              "      promise: fileDataPromise,\n",
              "      response: {\n",
              "        action: 'continue',\n",
              "      }\n",
              "    };\n",
              "\n",
              "    // Use a chunked sending to avoid message size limits. See b/62115660.\n",
              "    let position = 0;\n",
              "    do {\n",
              "      const length = Math.min(fileData.byteLength - position, MAX_PAYLOAD_SIZE);\n",
              "      const chunk = new Uint8Array(fileData, position, length);\n",
              "      position += length;\n",
              "\n",
              "      const base64 = btoa(String.fromCharCode.apply(null, chunk));\n",
              "      yield {\n",
              "        response: {\n",
              "          action: 'append',\n",
              "          file: file.name,\n",
              "          data: base64,\n",
              "        },\n",
              "      };\n",
              "\n",
              "      let percentDone = fileData.byteLength === 0 ?\n",
              "          100 :\n",
              "          Math.round((position / fileData.byteLength) * 100);\n",
              "      percent.textContent = `${percentDone}% done`;\n",
              "\n",
              "    } while (position < fileData.byteLength);\n",
              "  }\n",
              "\n",
              "  // All done.\n",
              "  yield {\n",
              "    response: {\n",
              "      action: 'complete',\n",
              "    }\n",
              "  };\n",
              "}\n",
              "\n",
              "scope.google = scope.google || {};\n",
              "scope.google.colab = scope.google.colab || {};\n",
              "scope.google.colab._files = {\n",
              "  _uploadFiles,\n",
              "  _uploadFilesContinue,\n",
              "};\n",
              "})(self);\n",
              "</script> "
            ]
          },
          "metadata": {}
        },
        {
          "output_type": "stream",
          "name": "stdout",
          "text": [
            "Saving gutenberg_ebook.txt to gutenberg_ebook.txt\n"
          ]
        }
      ]
    },
    {
      "cell_type": "code",
      "source": [
        "file = open(\"gutenberg_ebook.txt\", \"r\", encoding = \"utf8\")\n",
        "lines = []\n",
        "for i in file:\n",
        "    lines.append(i)\n",
        "data = \"\"\n",
        "for i in lines:\n",
        "  data = ' '. join(lines) \n",
        "data = data.replace('\\n', '').replace('\\r', '').replace('\\ufeff', '').replace('“','').replace('”','')\n",
        "data = data.split()\n",
        "data = ' '.join(data)\n",
        "data[:500]"
      ],
      "metadata": {
        "colab": {
          "base_uri": "https://localhost:8080/",
          "height": 72
        },
        "id": "H32SiVbKWY-n",
        "outputId": "3904884b-fb03-46d3-d87b-b2473393afd8"
      },
      "execution_count": 4,
      "outputs": [
        {
          "output_type": "execute_result",
          "data": {
            "text/plain": [
              "'The Project Gutenberg EBook of Metamorphosis, by Franz Kafka Translated by David Wyllie. This eBook is for the use of anyone anywhere at no cost and with almost no restrictions whatsoever. You may copy it, give it away or re-use it under the terms of the Project Gutenberg License included with this eBook or online at www.gutenberg.org ** This is a COPYRIGHTED Project Gutenberg eBook, Details Below ** ** Please follow the copyright guidelines in this file. ** Title: Metamorphosis Author: Franz Ka'"
            ],
            "application/vnd.google.colaboratory.intrinsic+json": {
              "type": "string"
            }
          },
          "metadata": {},
          "execution_count": 4
        }
      ]
    },
    {
      "cell_type": "code",
      "source": [
        "len(data)"
      ],
      "metadata": {
        "colab": {
          "base_uri": "https://localhost:8080/"
        },
        "id": "YctwxLRpWhfL",
        "outputId": "a058274c-7647-4c8a-fa92-e8b6c4af53c3"
      },
      "execution_count": 5,
      "outputs": [
        {
          "output_type": "execute_result",
          "data": {
            "text/plain": [
              "138048"
            ]
          },
          "metadata": {},
          "execution_count": 5
        }
      ]
    },
    {
      "cell_type": "code",
      "source": [
        "tokenizer = Tokenizer()\n",
        "tokenizer.fit_on_texts([data])\n",
        "\n",
        "# saving the tokenizer for predict function\n",
        "pickle.dump(tokenizer, open('token.pkl', 'wb'))\n",
        "\n",
        "sequence_data = tokenizer.texts_to_sequences([data])[0]\n",
        "sequence_data[:15]"
      ],
      "metadata": {
        "colab": {
          "base_uri": "https://localhost:8080/"
        },
        "id": "I7PC0BHFWsDU",
        "outputId": "57066625-23e6-40a0-a0d5-a108e29207fb"
      },
      "execution_count": 6,
      "outputs": [
        {
          "output_type": "execute_result",
          "data": {
            "text/plain": [
              "[1, 45, 43, 283, 5, 511, 55, 687, 688, 847, 55, 593, 594, 27, 283]"
            ]
          },
          "metadata": {},
          "execution_count": 6
        }
      ]
    },
    {
      "cell_type": "code",
      "source": [
        "with open('gutenberg_ebook.txt', 'r') as file:\n",
        "    text = file.read()\n",
        "\n",
        "# Split the dataset into sentences\n",
        "sentences = text.split('\\n')"
      ],
      "metadata": {
        "id": "zlguvFd2zxFX"
      },
      "execution_count": 7,
      "outputs": []
    },
    {
      "cell_type": "code",
      "source": [
        "tokenizer.fit_on_texts(sentences)\n",
        "sequences = tokenizer.texts_to_sequences(sentences)"
      ],
      "metadata": {
        "id": "mfQxe1tzz3aX"
      },
      "execution_count": 8,
      "outputs": []
    },
    {
      "cell_type": "code",
      "source": [
        "from keras.utils import pad_sequences\n",
        "max_sequence_len = 100\n",
        "padded_sequences = pad_sequences(sequences, maxlen=max_sequence_len, padding='post')\n",
        "\n",
        "# Create predictors and target\n",
        "predictors, label = padded_sequences[:,:-1], padded_sequences[:,-1]\n"
      ],
      "metadata": {
        "id": "QKxhOg-I0E12"
      },
      "execution_count": 9,
      "outputs": []
    },
    {
      "cell_type": "code",
      "source": [
        "len(sequence_data)"
      ],
      "metadata": {
        "colab": {
          "base_uri": "https://localhost:8080/"
        },
        "id": "aXxcSd-UWwoS",
        "outputId": "b718dd7d-e4ba-4caa-d16d-f52c9ce4f7b1"
      },
      "execution_count": 10,
      "outputs": [
        {
          "output_type": "execute_result",
          "data": {
            "text/plain": [
              "25309"
            ]
          },
          "metadata": {},
          "execution_count": 10
        }
      ]
    },
    {
      "cell_type": "code",
      "source": [
        "vocab_size = len(tokenizer.word_index) + 1\n",
        "print(vocab_size)"
      ],
      "metadata": {
        "colab": {
          "base_uri": "https://localhost:8080/"
        },
        "id": "-cUoY30BWwzK",
        "outputId": "e9d6cd06-4ea9-48bf-e9a0-d162ddd711fd"
      },
      "execution_count": 11,
      "outputs": [
        {
          "output_type": "stream",
          "name": "stdout",
          "text": [
            "3068\n"
          ]
        }
      ]
    },
    {
      "cell_type": "code",
      "source": [
        "sequences = []\n",
        "\n",
        "for i in range(3, len(sequence_data)):\n",
        "    words = sequence_data[i-3:i+1]\n",
        "    sequences.append(words)\n",
        "    \n",
        "print(len(sequences))\n",
        "sequences = np.array(sequences)\n",
        "sequences[:10]"
      ],
      "metadata": {
        "colab": {
          "base_uri": "https://localhost:8080/"
        },
        "id": "1GKy5H4oW-Gp",
        "outputId": "0d230783-cd15-4c3e-ad28-65c29eb2fd28"
      },
      "execution_count": 12,
      "outputs": [
        {
          "output_type": "stream",
          "name": "stdout",
          "text": [
            "25306\n"
          ]
        },
        {
          "output_type": "execute_result",
          "data": {
            "text/plain": [
              "array([[  1,  45,  43, 283],\n",
              "       [ 45,  43, 283,   5],\n",
              "       [ 43, 283,   5, 511],\n",
              "       [283,   5, 511,  55],\n",
              "       [  5, 511,  55, 687],\n",
              "       [511,  55, 687, 688],\n",
              "       [ 55, 687, 688, 847],\n",
              "       [687, 688, 847,  55],\n",
              "       [688, 847,  55, 593],\n",
              "       [847,  55, 593, 594]])"
            ]
          },
          "metadata": {},
          "execution_count": 12
        }
      ]
    },
    {
      "cell_type": "code",
      "source": [
        "X = []\n",
        "y = []\n",
        "\n",
        "for i in sequences:\n",
        "    X.append(i[0:3])\n",
        "    y.append(i[3])\n",
        "    \n",
        "X = np.array(X)\n",
        "y = np.array(y)"
      ],
      "metadata": {
        "id": "M2nyTFITXCZE"
      },
      "execution_count": 13,
      "outputs": []
    },
    {
      "cell_type": "code",
      "source": [
        "y = to_categorical(y, num_classes=vocab_size)\n",
        "y[:5]"
      ],
      "metadata": {
        "colab": {
          "base_uri": "https://localhost:8080/"
        },
        "id": "hu1-2YvZXGPG",
        "outputId": "82bbdcba-6998-454d-99a1-eb443720b540"
      },
      "execution_count": 14,
      "outputs": [
        {
          "output_type": "execute_result",
          "data": {
            "text/plain": [
              "array([[0., 0., 0., ..., 0., 0., 0.],\n",
              "       [0., 0., 0., ..., 0., 0., 0.],\n",
              "       [0., 0., 0., ..., 0., 0., 0.],\n",
              "       [0., 0., 0., ..., 0., 0., 0.],\n",
              "       [0., 0., 0., ..., 0., 0., 0.]], dtype=float32)"
            ]
          },
          "metadata": {},
          "execution_count": 14
        }
      ]
    },
    {
      "cell_type": "code",
      "source": [],
      "metadata": {
        "id": "vfNuvv0qwTyp"
      },
      "execution_count": 14,
      "outputs": []
    },
    {
      "cell_type": "code",
      "source": [
        "model = Sequential()\n",
        "model.add(Embedding(vocab_size, 10, input_length=3))\n",
        "model.add(LSTM(1000, return_sequences=True))\n",
        "model.add(LSTM(1000))\n",
        "model.add(Dense(1000, activation=\"relu\"))\n",
        "model.add(Dense(vocab_size, activation=\"softmax\"))"
      ],
      "metadata": {
        "id": "D6rgyiteXGVm"
      },
      "execution_count": 15,
      "outputs": []
    },
    {
      "cell_type": "code",
      "source": [
        "from tensorflow.keras.callbacks import ModelCheckpoint\n",
        "\n",
        "checkpoint = ModelCheckpoint(\"next_words.h5\", monitor='loss', verbose=1, save_best_only=True)\n",
        "model.compile(loss=\"categorical_crossentropy\", optimizer=Adam(learning_rate=0.001),metrics = ['accuracy'])\n",
        "history = model.fit(X, y,validation_split=0.05, epochs=50, batch_size=128, callbacks=[checkpoint]).history"
      ],
      "metadata": {
        "colab": {
          "base_uri": "https://localhost:8080/"
        },
        "id": "6DAmxssVXPCE",
        "outputId": "90553091-edfe-420f-a2f3-5578509cd2d8"
      },
      "execution_count": 26,
      "outputs": [
        {
          "output_type": "stream",
          "name": "stdout",
          "text": [
            "Epoch 1/50\n",
            "188/188 [==============================] - ETA: 0s - loss: 0.2721 - accuracy: 0.8873\n",
            "Epoch 1: loss improved from inf to 0.27208, saving model to next_words.h5\n",
            "188/188 [==============================] - 16s 62ms/step - loss: 0.2721 - accuracy: 0.8873 - val_loss: 10.0331 - val_accuracy: 0.1888\n",
            "Epoch 2/50\n",
            "188/188 [==============================] - ETA: 0s - loss: 0.2419 - accuracy: 0.8902\n",
            "Epoch 2: loss improved from 0.27208 to 0.24194, saving model to next_words.h5\n",
            "188/188 [==============================] - 5s 25ms/step - loss: 0.2419 - accuracy: 0.8902 - val_loss: 9.8063 - val_accuracy: 0.1935\n",
            "Epoch 3/50\n",
            "188/188 [==============================] - ETA: 0s - loss: 0.2392 - accuracy: 0.8908\n",
            "Epoch 3: loss improved from 0.24194 to 0.23919, saving model to next_words.h5\n",
            "188/188 [==============================] - 4s 21ms/step - loss: 0.2392 - accuracy: 0.8908 - val_loss: 9.9933 - val_accuracy: 0.1998\n",
            "Epoch 4/50\n",
            "185/188 [============================>.] - ETA: 0s - loss: 0.2392 - accuracy: 0.8891\n",
            "Epoch 4: loss did not improve from 0.23919\n",
            "188/188 [==============================] - 4s 21ms/step - loss: 0.2400 - accuracy: 0.8887 - val_loss: 10.1901 - val_accuracy: 0.1935\n",
            "Epoch 5/50\n",
            "187/188 [============================>.] - ETA: 0s - loss: 0.2409 - accuracy: 0.8898\n",
            "Epoch 5: loss did not improve from 0.23919\n",
            "188/188 [==============================] - 4s 19ms/step - loss: 0.2415 - accuracy: 0.8895 - val_loss: 10.2837 - val_accuracy: 0.1888\n",
            "Epoch 6/50\n",
            "188/188 [==============================] - ETA: 0s - loss: 0.2451 - accuracy: 0.8887\n",
            "Epoch 6: loss did not improve from 0.23919\n",
            "188/188 [==============================] - 4s 21ms/step - loss: 0.2451 - accuracy: 0.8887 - val_loss: 10.1672 - val_accuracy: 0.1896\n",
            "Epoch 7/50\n",
            "188/188 [==============================] - ETA: 0s - loss: 0.2452 - accuracy: 0.8876\n",
            "Epoch 7: loss did not improve from 0.23919\n",
            "188/188 [==============================] - 4s 20ms/step - loss: 0.2452 - accuracy: 0.8876 - val_loss: 10.5770 - val_accuracy: 0.1935\n",
            "Epoch 8/50\n",
            "188/188 [==============================] - ETA: 0s - loss: 0.2479 - accuracy: 0.8871\n",
            "Epoch 8: loss did not improve from 0.23919\n",
            "188/188 [==============================] - 4s 20ms/step - loss: 0.2479 - accuracy: 0.8871 - val_loss: 10.9154 - val_accuracy: 0.1777\n",
            "Epoch 9/50\n",
            "188/188 [==============================] - ETA: 0s - loss: 0.2421 - accuracy: 0.8895\n",
            "Epoch 9: loss did not improve from 0.23919\n",
            "188/188 [==============================] - 4s 19ms/step - loss: 0.2421 - accuracy: 0.8895 - val_loss: 11.1489 - val_accuracy: 0.1983\n",
            "Epoch 10/50\n",
            "188/188 [==============================] - ETA: 0s - loss: 0.2359 - accuracy: 0.8881\n",
            "Epoch 10: loss improved from 0.23919 to 0.23595, saving model to next_words.h5\n",
            "188/188 [==============================] - 4s 22ms/step - loss: 0.2359 - accuracy: 0.8881 - val_loss: 10.9141 - val_accuracy: 0.1840\n",
            "Epoch 11/50\n",
            "188/188 [==============================] - ETA: 0s - loss: 0.2329 - accuracy: 0.8898\n",
            "Epoch 11: loss improved from 0.23595 to 0.23288, saving model to next_words.h5\n",
            "188/188 [==============================] - 4s 22ms/step - loss: 0.2329 - accuracy: 0.8898 - val_loss: 11.3301 - val_accuracy: 0.1848\n",
            "Epoch 12/50\n",
            "186/188 [============================>.] - ETA: 0s - loss: 0.2274 - accuracy: 0.8900\n",
            "Epoch 12: loss improved from 0.23288 to 0.22786, saving model to next_words.h5\n",
            "188/188 [==============================] - 4s 22ms/step - loss: 0.2279 - accuracy: 0.8897 - val_loss: 11.3731 - val_accuracy: 0.1817\n",
            "Epoch 13/50\n",
            "187/188 [============================>.] - ETA: 0s - loss: 0.2246 - accuracy: 0.8907\n",
            "Epoch 13: loss improved from 0.22786 to 0.22469, saving model to next_words.h5\n",
            "188/188 [==============================] - 4s 22ms/step - loss: 0.2247 - accuracy: 0.8906 - val_loss: 11.1520 - val_accuracy: 0.1912\n",
            "Epoch 14/50\n",
            "188/188 [==============================] - ETA: 0s - loss: 0.2226 - accuracy: 0.8926\n",
            "Epoch 14: loss improved from 0.22469 to 0.22259, saving model to next_words.h5\n",
            "188/188 [==============================] - 4s 21ms/step - loss: 0.2226 - accuracy: 0.8926 - val_loss: 11.0120 - val_accuracy: 0.1856\n",
            "Epoch 15/50\n",
            "188/188 [==============================] - ETA: 0s - loss: 0.2197 - accuracy: 0.8897\n",
            "Epoch 15: loss improved from 0.22259 to 0.21969, saving model to next_words.h5\n",
            "188/188 [==============================] - 4s 21ms/step - loss: 0.2197 - accuracy: 0.8897 - val_loss: 11.1215 - val_accuracy: 0.1888\n",
            "Epoch 16/50\n",
            "185/188 [============================>.] - ETA: 0s - loss: 0.2172 - accuracy: 0.8916\n",
            "Epoch 16: loss improved from 0.21969 to 0.21843, saving model to next_words.h5\n",
            "188/188 [==============================] - 4s 20ms/step - loss: 0.2184 - accuracy: 0.8909 - val_loss: 11.2710 - val_accuracy: 0.1864\n",
            "Epoch 17/50\n",
            "188/188 [==============================] - ETA: 0s - loss: 0.2169 - accuracy: 0.8901\n",
            "Epoch 17: loss improved from 0.21843 to 0.21687, saving model to next_words.h5\n",
            "188/188 [==============================] - 4s 21ms/step - loss: 0.2169 - accuracy: 0.8901 - val_loss: 11.4266 - val_accuracy: 0.1896\n",
            "Epoch 18/50\n",
            "188/188 [==============================] - ETA: 0s - loss: 0.2169 - accuracy: 0.8896\n",
            "Epoch 18: loss did not improve from 0.21687\n",
            "188/188 [==============================] - 3s 17ms/step - loss: 0.2169 - accuracy: 0.8896 - val_loss: 11.0373 - val_accuracy: 0.1840\n",
            "Epoch 19/50\n",
            "186/188 [============================>.] - ETA: 0s - loss: 0.2165 - accuracy: 0.8914\n",
            "Epoch 19: loss improved from 0.21687 to 0.21682, saving model to next_words.h5\n",
            "188/188 [==============================] - 4s 20ms/step - loss: 0.2168 - accuracy: 0.8913 - val_loss: 11.1866 - val_accuracy: 0.1840\n",
            "Epoch 20/50\n",
            "187/188 [============================>.] - ETA: 0s - loss: 0.2170 - accuracy: 0.8908\n",
            "Epoch 20: loss did not improve from 0.21682\n",
            "188/188 [==============================] - 4s 19ms/step - loss: 0.2168 - accuracy: 0.8909 - val_loss: 11.7383 - val_accuracy: 0.1785\n",
            "Epoch 21/50\n",
            "188/188 [==============================] - ETA: 0s - loss: 0.2168 - accuracy: 0.8906\n",
            "Epoch 21: loss improved from 0.21682 to 0.21679, saving model to next_words.h5\n",
            "188/188 [==============================] - 4s 24ms/step - loss: 0.2168 - accuracy: 0.8906 - val_loss: 11.4348 - val_accuracy: 0.1872\n",
            "Epoch 22/50\n",
            "188/188 [==============================] - ETA: 0s - loss: 0.2224 - accuracy: 0.8893\n",
            "Epoch 22: loss did not improve from 0.21679\n",
            "188/188 [==============================] - 4s 19ms/step - loss: 0.2224 - accuracy: 0.8893 - val_loss: 12.2008 - val_accuracy: 0.1754\n",
            "Epoch 23/50\n",
            "187/188 [============================>.] - ETA: 0s - loss: 0.2722 - accuracy: 0.8784\n",
            "Epoch 23: loss did not improve from 0.21679\n",
            "188/188 [==============================] - 3s 18ms/step - loss: 0.2725 - accuracy: 0.8782 - val_loss: 12.5112 - val_accuracy: 0.1738\n",
            "Epoch 24/50\n",
            "187/188 [============================>.] - ETA: 0s - loss: 0.2973 - accuracy: 0.8720\n",
            "Epoch 24: loss did not improve from 0.21679\n",
            "188/188 [==============================] - 3s 18ms/step - loss: 0.2974 - accuracy: 0.8720 - val_loss: 12.5490 - val_accuracy: 0.1722\n",
            "Epoch 25/50\n",
            "186/188 [============================>.] - ETA: 0s - loss: 0.2475 - accuracy: 0.8846\n",
            "Epoch 25: loss did not improve from 0.21679\n",
            "188/188 [==============================] - 3s 18ms/step - loss: 0.2471 - accuracy: 0.8847 - val_loss: 12.8666 - val_accuracy: 0.1659\n",
            "Epoch 26/50\n",
            "187/188 [============================>.] - ETA: 0s - loss: 0.2198 - accuracy: 0.8900\n",
            "Epoch 26: loss did not improve from 0.21679\n",
            "188/188 [==============================] - 3s 18ms/step - loss: 0.2200 - accuracy: 0.8899 - val_loss: 12.5483 - val_accuracy: 0.1738\n",
            "Epoch 27/50\n",
            "187/188 [============================>.] - ETA: 0s - loss: 0.2050 - accuracy: 0.8904\n",
            "Epoch 27: loss improved from 0.21679 to 0.20574, saving model to next_words.h5\n",
            "188/188 [==============================] - 4s 22ms/step - loss: 0.2057 - accuracy: 0.8901 - val_loss: 12.6157 - val_accuracy: 0.1738\n",
            "Epoch 28/50\n",
            "187/188 [============================>.] - ETA: 0s - loss: 0.2042 - accuracy: 0.8916\n",
            "Epoch 28: loss improved from 0.20574 to 0.20421, saving model to next_words.h5\n",
            "188/188 [==============================] - 4s 20ms/step - loss: 0.2042 - accuracy: 0.8916 - val_loss: 12.6070 - val_accuracy: 0.1722\n",
            "Epoch 29/50\n",
            "186/188 [============================>.] - ETA: 0s - loss: 0.2016 - accuracy: 0.8911\n",
            "Epoch 29: loss improved from 0.20421 to 0.20194, saving model to next_words.h5\n",
            "188/188 [==============================] - 4s 21ms/step - loss: 0.2019 - accuracy: 0.8909 - val_loss: 12.5384 - val_accuracy: 0.1761\n",
            "Epoch 30/50\n",
            "188/188 [==============================] - ETA: 0s - loss: 0.2008 - accuracy: 0.8920\n",
            "Epoch 30: loss improved from 0.20194 to 0.20082, saving model to next_words.h5\n",
            "188/188 [==============================] - 4s 22ms/step - loss: 0.2008 - accuracy: 0.8920 - val_loss: 12.3143 - val_accuracy: 0.1840\n",
            "Epoch 31/50\n",
            "187/188 [============================>.] - ETA: 0s - loss: 0.2010 - accuracy: 0.8905\n",
            "Epoch 31: loss did not improve from 0.20082\n",
            "188/188 [==============================] - 3s 18ms/step - loss: 0.2012 - accuracy: 0.8905 - val_loss: 12.5788 - val_accuracy: 0.1738\n",
            "Epoch 32/50\n",
            "188/188 [==============================] - ETA: 0s - loss: 0.2009 - accuracy: 0.8906\n",
            "Epoch 32: loss did not improve from 0.20082\n",
            "188/188 [==============================] - 3s 18ms/step - loss: 0.2009 - accuracy: 0.8906 - val_loss: 12.5610 - val_accuracy: 0.1817\n",
            "Epoch 33/50\n",
            "188/188 [==============================] - ETA: 0s - loss: 0.2027 - accuracy: 0.8911\n",
            "Epoch 33: loss did not improve from 0.20082\n",
            "188/188 [==============================] - 4s 19ms/step - loss: 0.2027 - accuracy: 0.8911 - val_loss: 12.6571 - val_accuracy: 0.1722\n",
            "Epoch 34/50\n",
            "186/188 [============================>.] - ETA: 0s - loss: 0.2027 - accuracy: 0.8913\n",
            "Epoch 34: loss did not improve from 0.20082\n",
            "188/188 [==============================] - 4s 19ms/step - loss: 0.2034 - accuracy: 0.8909 - val_loss: 12.7764 - val_accuracy: 0.1809\n",
            "Epoch 35/50\n",
            "187/188 [============================>.] - ETA: 0s - loss: 0.2036 - accuracy: 0.8917\n",
            "Epoch 35: loss did not improve from 0.20082\n",
            "188/188 [==============================] - 3s 18ms/step - loss: 0.2039 - accuracy: 0.8915 - val_loss: 12.9383 - val_accuracy: 0.1714\n",
            "Epoch 36/50\n",
            "188/188 [==============================] - ETA: 0s - loss: 0.2084 - accuracy: 0.8903\n",
            "Epoch 36: loss did not improve from 0.20082\n",
            "188/188 [==============================] - 3s 18ms/step - loss: 0.2084 - accuracy: 0.8903 - val_loss: 12.5267 - val_accuracy: 0.1746\n",
            "Epoch 37/50\n",
            "186/188 [============================>.] - ETA: 0s - loss: 0.2092 - accuracy: 0.8899\n",
            "Epoch 37: loss did not improve from 0.20082\n",
            "188/188 [==============================] - 4s 19ms/step - loss: 0.2089 - accuracy: 0.8901 - val_loss: 13.0033 - val_accuracy: 0.1730\n",
            "Epoch 38/50\n",
            "188/188 [==============================] - ETA: 0s - loss: 0.2114 - accuracy: 0.8923\n",
            "Epoch 38: loss did not improve from 0.20082\n",
            "188/188 [==============================] - 4s 19ms/step - loss: 0.2114 - accuracy: 0.8923 - val_loss: 12.6605 - val_accuracy: 0.1738\n",
            "Epoch 39/50\n",
            "186/188 [============================>.] - ETA: 0s - loss: 0.2148 - accuracy: 0.8897\n",
            "Epoch 39: loss did not improve from 0.20082\n",
            "188/188 [==============================] - 3s 18ms/step - loss: 0.2150 - accuracy: 0.8894 - val_loss: 12.8223 - val_accuracy: 0.1682\n",
            "Epoch 40/50\n",
            "188/188 [==============================] - ETA: 0s - loss: 0.2312 - accuracy: 0.8873\n",
            "Epoch 40: loss did not improve from 0.20082\n",
            "188/188 [==============================] - 4s 20ms/step - loss: 0.2312 - accuracy: 0.8873 - val_loss: 14.1444 - val_accuracy: 0.1682\n",
            "Epoch 41/50\n",
            "188/188 [==============================] - ETA: 0s - loss: 0.2745 - accuracy: 0.8773\n",
            "Epoch 41: loss did not improve from 0.20082\n",
            "188/188 [==============================] - 3s 18ms/step - loss: 0.2745 - accuracy: 0.8773 - val_loss: 13.9031 - val_accuracy: 0.1611\n",
            "Epoch 42/50\n",
            "187/188 [============================>.] - ETA: 0s - loss: 0.2537 - accuracy: 0.8806\n",
            "Epoch 42: loss did not improve from 0.20082\n",
            "188/188 [==============================] - 3s 18ms/step - loss: 0.2539 - accuracy: 0.8806 - val_loss: 13.4624 - val_accuracy: 0.1524\n",
            "Epoch 43/50\n",
            "186/188 [============================>.] - ETA: 0s - loss: 0.2210 - accuracy: 0.8894\n",
            "Epoch 43: loss did not improve from 0.20082\n",
            "188/188 [==============================] - 4s 19ms/step - loss: 0.2213 - accuracy: 0.8892 - val_loss: 13.6764 - val_accuracy: 0.1619\n",
            "Epoch 44/50\n",
            "188/188 [==============================] - ETA: 0s - loss: 0.2022 - accuracy: 0.8922\n",
            "Epoch 44: loss did not improve from 0.20082\n",
            "188/188 [==============================] - 4s 21ms/step - loss: 0.2022 - accuracy: 0.8922 - val_loss: 13.3553 - val_accuracy: 0.1619\n",
            "Epoch 45/50\n",
            "188/188 [==============================] - ETA: 0s - loss: 0.1957 - accuracy: 0.8921\n",
            "Epoch 45: loss improved from 0.20082 to 0.19568, saving model to next_words.h5\n",
            "188/188 [==============================] - 4s 23ms/step - loss: 0.1957 - accuracy: 0.8921 - val_loss: 13.6768 - val_accuracy: 0.1651\n",
            "Epoch 46/50\n",
            "188/188 [==============================] - ETA: 0s - loss: 0.1961 - accuracy: 0.8924\n",
            "Epoch 46: loss did not improve from 0.19568\n",
            "188/188 [==============================] - 3s 18ms/step - loss: 0.1961 - accuracy: 0.8924 - val_loss: 13.6311 - val_accuracy: 0.1667\n",
            "Epoch 47/50\n",
            "188/188 [==============================] - ETA: 0s - loss: 0.1947 - accuracy: 0.8921\n",
            "Epoch 47: loss improved from 0.19568 to 0.19473, saving model to next_words.h5\n",
            "188/188 [==============================] - 4s 22ms/step - loss: 0.1947 - accuracy: 0.8921 - val_loss: 13.3777 - val_accuracy: 0.1706\n",
            "Epoch 48/50\n",
            "186/188 [============================>.] - ETA: 0s - loss: 0.1940 - accuracy: 0.8923\n",
            "Epoch 48: loss did not improve from 0.19473\n",
            "188/188 [==============================] - 3s 18ms/step - loss: 0.1948 - accuracy: 0.8918 - val_loss: 13.4794 - val_accuracy: 0.1698\n",
            "Epoch 49/50\n",
            "186/188 [============================>.] - ETA: 0s - loss: 0.1947 - accuracy: 0.8922\n",
            "Epoch 49: loss improved from 0.19473 to 0.19444, saving model to next_words.h5\n",
            "188/188 [==============================] - 4s 21ms/step - loss: 0.1944 - accuracy: 0.8921 - val_loss: 13.1387 - val_accuracy: 0.1659\n",
            "Epoch 50/50\n",
            "188/188 [==============================] - ETA: 0s - loss: 0.1961 - accuracy: 0.8920\n",
            "Epoch 50: loss did not improve from 0.19444\n",
            "188/188 [==============================] - 4s 20ms/step - loss: 0.1961 - accuracy: 0.8920 - val_loss: 13.4612 - val_accuracy: 0.1690\n"
          ]
        }
      ]
    },
    {
      "cell_type": "code",
      "source": [
        "model.save('keras_next_word_model.h5')\n",
        "pickle.dump(history, open(\"history.p\", \"wb\"))\n",
        "\n",
        "from keras.models import load_model\n",
        "model = load_model('keras_next_word_model.h5')\n",
        "history = pickle.load(open(\"history.p\", \"rb\"))"
      ],
      "metadata": {
        "id": "YS69jyU8O7GY"
      },
      "execution_count": 27,
      "outputs": []
    },
    {
      "cell_type": "code",
      "source": [
        "import matplotlib.pyplot as plt\n",
        "plt.plot(history['accuracy'])\n",
        "plt.plot(history['val_accuracy'])\n",
        "plt.title('model accuracy')\n",
        "plt.ylabel('accuracy')\n",
        "plt.xlabel('epoch')\n",
        "plt.legend(['train', 'test'], loc='upper left')"
      ],
      "metadata": {
        "colab": {
          "base_uri": "https://localhost:8080/",
          "height": 490
        },
        "id": "zzjSHhdqRA1k",
        "outputId": "0cd24e44-52eb-451a-ca46-b489c211f1bf"
      },
      "execution_count": 28,
      "outputs": [
        {
          "output_type": "execute_result",
          "data": {
            "text/plain": [
              "<matplotlib.legend.Legend at 0x7f15303a3fd0>"
            ]
          },
          "metadata": {},
          "execution_count": 28
        },
        {
          "output_type": "display_data",
          "data": {
            "text/plain": [
              "<Figure size 640x480 with 1 Axes>"
            ],
            "image/png": "[encoded data removed]"
          },
          "metadata": {}
        }
      ]
    },
    {
      "cell_type": "code",
      "source": [
        "from tensorflow.keras.models import load_model\n",
        "import numpy as np\n",
        "import pickle\n",
        "\n",
        "# Load the model and tokenizer\n",
        "model = load_model('next_words.h5')\n",
        "tokenizer = pickle.load(open('token.pkl', 'rb'))\n",
        "\n",
        "def Predict_Next_Words(model, tokenizer, text):\n",
        "\n",
        "  sequence = tokenizer.texts_to_sequences([text])\n",
        "  sequence = np.array(sequence)\n",
        "  preds = np.argmax(model.predict(sequence))\n",
        "  predicted_word = \"\"\n",
        "  \n",
        "  for key, value in tokenizer.word_index.items():\n",
        "      if value == preds:\n",
        "          predicted_word = key\n",
        "          break\n",
        "  \n",
        "  print(predicted_word)\n",
        "  return predicted_word\n",
        "\n",
        "\n",
        "while(True):\n",
        "  \n",
        "  text = input(\"Enter your line: \") \n",
        "  if text == \"0\":\n",
        "      print(\"Execution completed.....\")\n",
        "      break\n",
        "  \n",
        "  else:\n",
        "      try:\n",
        "          text = text.split(\" \")\n",
        "          text = text[-3:]\n",
        "          print(text)\n",
        "        \n",
        "          Predict_Next_Words(model, tokenizer, text)\n",
        "          \n",
        "      except Exception as e:\n",
        "        print(\"Error occurred: \",e)\n",
        "        continue\n",
        "        "
      ],
      "metadata": {
        "colab": {
          "base_uri": "https://localhost:8080/"
        },
        "id": "-k7UJ9uCfd0I",
        "outputId": "415882fb-5864-4bb1-ab0b-e5cf468a976e"
      },
      "execution_count": 29,
      "outputs": [
        {
          "output_type": "stream",
          "name": "stdout",
          "text": [
            "Enter your line: Gregor then turned to look out the\n",
            "['look', 'out', 'the']\n",
            "1/1 [==============================] - 1s 660ms/step\n",
            "window\n",
            "Enter your line: travelling salesmen live a life of\n",
            "['a', 'life', 'of']\n",
            "1/1 [==============================] - 0s 20ms/step\n",
            "luxury\n",
            "Enter your line: 0\n",
            "Execution completed.....\n"
          ]
        }
      ]
    }
  ]
}